{
 "cells": [
  {
   "cell_type": "code",
   "execution_count": 82,
   "metadata": {},
   "outputs": [],
   "source": [
    "import torch\n",
    "import glob\n",
    "import os\n",
    "import pickle\n",
    "from rouge import Rouge\n",
    "import random"
   ]
  },
  {
   "cell_type": "code",
   "execution_count": 59,
   "metadata": {},
   "outputs": [],
   "source": [
    "def _get_ngrams(n, text):\n",
    "    ngram_set = set()\n",
    "    text_length = len(text)\n",
    "    max_index_ngram_start = text_length - n\n",
    "    for i in range(max_index_ngram_start + 1):\n",
    "        ngram_set.add(tuple(text[i:i + n]))\n",
    "    return ngram_set\n",
    "\n",
    "def _block_tri(c, p):\n",
    "    tri_c = _get_ngrams(3, c.split())\n",
    "    for s in p:\n",
    "        tri_s = _get_ngrams(3, s.split())\n",
    "        if len(tri_c.intersection(tri_s))>0:\n",
    "            return True\n",
    "    return False"
   ]
  },
  {
   "cell_type": "code",
   "execution_count": 10,
   "metadata": {},
   "outputs": [],
   "source": [
    "dataname = \"infer_all.pkl\"\n",
    "with open(dataname, 'rb') as file:\n",
    "    data = pickle.load(file)"
   ]
  },
  {
   "cell_type": "code",
   "execution_count": 11,
   "metadata": {},
   "outputs": [
    {
     "name": "stdout",
     "output_type": "stream",
     "text": [
      "dict_keys(['src_txt', 'tgt_txt', 'src_sent_labels', 'scores'])\n"
     ]
    }
   ],
   "source": [
    "print(data.keys())\n"
   ]
  },
  {
   "cell_type": "code",
   "execution_count": 6,
   "metadata": {},
   "outputs": [
    {
     "name": "stdout",
     "output_type": "stream",
     "text": [
      "['a university of iowa student has died nearly three months after a fall in rome in a suspected robbery attack in rome .', 'andrew mogni , 20 , from glen ellyn , illinois , had only just arrived for a semester program in italy when the incident happened in january .', 'he was flown back to chicago via air ambulance on march 20 , but he died on sunday .', 'andrew mogni , 20 , from glen ellyn , illinois , a university of iowa student has died nearly three months after a fall in rome in a suspected robbery', 'he was taken to a medical facility in the chicago area , close to his family home in glen ellyn .', \"he died on sunday at northwestern memorial hospital - medical examiner 's office spokesman frank shuftan says a cause of death wo n't be released until monday at the earliest .\", 'initial police reports indicated the fall was an accident but authorities are investigating the possibility that mogni was robbed .', \"on sunday , his cousin abby wrote online : ` this morning my cousin andrew 's soul was lifted up to heaven .\", 'initial police reports indicated the fall was an accident but authorities are investigating the possibility that mogni was robbed', '` at the beginning of january he went to rome to study aboard and on the way home from a party he was brutally attacked and thrown off a 40ft bridge and hit the concrete below .', \"` he was in a coma and in critical condition for months . '\", 'paula barnett , who said she is a close family friend , told my suburban life , that mogni had only been in the country for six hours when the incident happened .', 'she said he was was alone at the time of the alleged assault and personal items were stolen .', 'she added that he was in a non-medically induced coma , having suffered serious infection and internal bleeding .', 'mogni was a third-year finance major from glen ellyn , ill. , who was participating in a semester-long program at john cabot university .', \"mogni belonged to the school 's chapter of the sigma nu fraternity , reports the chicago tribune who posted a sign outside a building reading ` pray for mogni . '\", \"the fraternity 's iowa chapter announced sunday afternoon via twitter that a memorial service will be held on campus to remember mogni .\"]\n"
     ]
    }
   ],
   "source": [
    "print(data['src_txt'][0])"
   ]
  },
  {
   "cell_type": "code",
   "execution_count": 12,
   "metadata": {},
   "outputs": [
    {
     "name": "stdout",
     "output_type": "stream",
     "text": [
      "[0, 1, 1, 0, 0, 0, 1, 0, 0, 0, 0, 0, 0, 0, 0, 0, 0]\n"
     ]
    }
   ],
   "source": [
    "print(data['src_sent_labels'][0])"
   ]
  },
  {
   "cell_type": "code",
   "execution_count": 13,
   "metadata": {},
   "outputs": [],
   "source": [
    "data_list = [dict(zip(data,t)) for t in zip(*data.values())]"
   ]
  },
  {
   "cell_type": "code",
   "execution_count": 14,
   "metadata": {},
   "outputs": [
    {
     "name": "stdout",
     "output_type": "stream",
     "text": [
      "dict_keys(['src_txt', 'tgt_txt', 'src_sent_labels', 'scores'])\n"
     ]
    }
   ],
   "source": [
    "print(data_list[0].keys())"
   ]
  },
  {
   "attachments": {},
   "cell_type": "markdown",
   "metadata": {},
   "source": [
    "### Evaluate top-k sentence selection"
   ]
  },
  {
   "cell_type": "code",
   "execution_count": 63,
   "metadata": {},
   "outputs": [],
   "source": [
    "def get_topk_selection(dataset, num_examples,k = 3, ngram=3):\n",
    "    hyps = []\n",
    "    refs = []\n",
    "    for i in range(min(len(dataset),num_examples)):\n",
    "        example = dataset[i]\n",
    "        selected = []\n",
    "        scores = example['scores']\n",
    "        scores = [(score, i) for i, score in enumerate(scores)]\n",
    "        scores_sorted = sorted(scores)\n",
    "        ngram_set = set()\n",
    "        count = 0\n",
    "        while scores_sorted and count < k:\n",
    "            _, cand_idx = scores_sorted.pop()\n",
    "            cand_ngram = _get_ngrams(ngram, example['src_txt'][cand_idx])\n",
    "            if len(ngram_set.intersection(cand_ngram)) == 0:\n",
    "                ngram_set.update(cand_ngram)\n",
    "                selected.append(example['src_txt'][cand_idx])\n",
    "                count += 1\n",
    "        if not selected:\n",
    "            continue\n",
    "        out = \" \".join(selected)\n",
    "        hyps.append(out)\n",
    "        ref = example['tgt_txt'].replace('<q>',' ')\n",
    "        refs.append(ref)\n",
    "\n",
    "    return hyps, refs"
   ]
  },
  {
   "cell_type": "code",
   "execution_count": 77,
   "metadata": {},
   "outputs": [],
   "source": [
    "hyps, refs = get_topk_selection(data_list, 100000)"
   ]
  },
  {
   "cell_type": "code",
   "execution_count": 67,
   "metadata": {},
   "outputs": [
    {
     "name": "stdout",
     "output_type": "stream",
     "text": [
      "1000 1000\n"
     ]
    }
   ],
   "source": [
    "print(len(hyps), len(refs))"
   ]
  },
  {
   "cell_type": "code",
   "execution_count": 78,
   "metadata": {},
   "outputs": [
    {
     "data": {
      "text/plain": [
       "{'rouge-1': {'r': 0.2761579258224892,\n",
       "  'p': 0.5042588714386943,\n",
       "  'f': 0.34527010526606833},\n",
       " 'rouge-2': {'r': 0.11644383704083192,\n",
       "  'p': 0.23932371326885649,\n",
       "  'f': 0.15012067596676093},\n",
       " 'rouge-l': {'r': 0.211787900163177,\n",
       "  'p': 0.3893834698036595,\n",
       "  'f': 0.2653227577647347}}"
      ]
     },
     "execution_count": 78,
     "metadata": {},
     "output_type": "execute_result"
    }
   ],
   "source": [
    "rouge_metric = Rouge()\n",
    "\n",
    "rouge_metric.get_scores(hyps, refs, avg=True)"
   ]
  },
  {
   "attachments": {},
   "cell_type": "markdown",
   "metadata": {},
   "source": [
    "### validate oracle baseline"
   ]
  },
  {
   "cell_type": "code",
   "execution_count": 69,
   "metadata": {},
   "outputs": [],
   "source": [
    "def get_oracle_selection(dataset, num_examples):\n",
    "    hyps = []\n",
    "    refs = []\n",
    "    for i in range(min(len(dataset),num_examples)):\n",
    "        example = dataset[i]\n",
    "        selected = []\n",
    "        for idx, j in enumerate(example['src_sent_labels']):\n",
    "            if j == 1:\n",
    "                selected.append(example['src_txt'][idx])\n",
    "        if not selected:\n",
    "            continue\n",
    "        out = \" \".join(selected)\n",
    "        hyps.append(out)\n",
    "        ref = example['tgt_txt'].replace('<q>',' ')\n",
    "        refs.append(ref)\n",
    "\n",
    "    return hyps, refs\n",
    "        "
   ]
  },
  {
   "cell_type": "code",
   "execution_count": 71,
   "metadata": {},
   "outputs": [],
   "source": [
    "hyps_oracle, refs_oracle = get_oracle_selection(data_list, 1000)\n"
   ]
  },
  {
   "cell_type": "code",
   "execution_count": 72,
   "metadata": {},
   "outputs": [
    {
     "name": "stdout",
     "output_type": "stream",
     "text": [
      "986\n"
     ]
    }
   ],
   "source": [
    "print(len(hyps_oracle))"
   ]
  },
  {
   "cell_type": "code",
   "execution_count": 73,
   "metadata": {},
   "outputs": [
    {
     "name": "stdout",
     "output_type": "stream",
     "text": [
      "986\n"
     ]
    }
   ],
   "source": [
    "print(len(refs_oracle))"
   ]
  },
  {
   "cell_type": "code",
   "execution_count": 76,
   "metadata": {},
   "outputs": [
    {
     "data": {
      "text/plain": [
       "{'rouge-1': {'r': 0.5676532245422679,\n",
       "  'p': 0.5775291688161241,\n",
       "  'f': 0.5508185184090183},\n",
       " 'rouge-2': {'r': 0.3268545562111377,\n",
       "  'p': 0.33508357536518946,\n",
       "  'f': 0.31426476241945256},\n",
       " 'rouge-l': {'r': 0.4685939421781878,\n",
       "  'p': 0.4776104916914664,\n",
       "  'f': 0.4552125771451799}}"
      ]
     },
     "execution_count": 76,
     "metadata": {},
     "output_type": "execute_result"
    }
   ],
   "source": [
    "rouge_metric = Rouge()\n",
    "rouge_metric.get_scores(hyps_oracle, refs_oracle, avg=True)"
   ]
  },
  {
   "attachments": {},
   "cell_type": "markdown",
   "metadata": {},
   "source": [
    "### Evaluate random-3 selection"
   ]
  },
  {
   "cell_type": "code",
   "execution_count": 83,
   "metadata": {},
   "outputs": [],
   "source": [
    "def get_random_k_selection(dataset, num_examples,k = 3, ngram=3):\n",
    "    hyps = []\n",
    "    refs = []\n",
    "    for i in range(min(len(dataset),num_examples)):\n",
    "        example = dataset[i]\n",
    "        selected = []\n",
    "        scores = example['scores']\n",
    "        scores = [(score, i) for i, score in enumerate(scores)]\n",
    "        random.shuffle(scores)\n",
    "        ngram_set = set()\n",
    "        count = 0\n",
    "        while scores and count < k:\n",
    "            _, cand_idx = scores.pop()\n",
    "            cand_ngram = _get_ngrams(ngram, example['src_txt'][cand_idx])\n",
    "            if len(ngram_set.intersection(cand_ngram)) == 0:\n",
    "                ngram_set.update(cand_ngram)\n",
    "                selected.append(example['src_txt'][cand_idx])\n",
    "                count += 1\n",
    "        if not selected:\n",
    "            continue\n",
    "        out = \" \".join(selected)\n",
    "        hyps.append(out)\n",
    "        ref = example['tgt_txt'].replace('<q>',' ')\n",
    "        refs.append(ref)\n",
    "\n",
    "    return hyps, refs"
   ]
  },
  {
   "cell_type": "code",
   "execution_count": 84,
   "metadata": {},
   "outputs": [],
   "source": [
    "hyps_random, refs_random = get_random_k_selection(data_list, 100000)"
   ]
  },
  {
   "cell_type": "code",
   "execution_count": 85,
   "metadata": {},
   "outputs": [
    {
     "data": {
      "text/plain": [
       "{'rouge-1': {'r': 0.16829301833168941,\n",
       "  'p': 0.3351070189848325,\n",
       "  'f': 0.21465348193063072},\n",
       " 'rouge-2': {'r': 0.04291650292877776,\n",
       "  'p': 0.09543145621139532,\n",
       "  'f': 0.056200722933811544},\n",
       " 'rouge-l': {'r': 0.12336082609000679,\n",
       "  'p': 0.2490458299325844,\n",
       "  'f': 0.1579106354309573}}"
      ]
     },
     "execution_count": 85,
     "metadata": {},
     "output_type": "execute_result"
    }
   ],
   "source": [
    "rouge_metric = Rouge()\n",
    "rouge_metric.get_scores(hyps_random, refs_random, avg=True)"
   ]
  },
  {
   "attachments": {},
   "cell_type": "markdown",
   "metadata": {},
   "source": [
    "### validate lead 3 baseline"
   ]
  },
  {
   "cell_type": "code",
   "execution_count": 86,
   "metadata": {},
   "outputs": [],
   "source": [
    "def get_lead_k_selection(dataset, num_examples, k=3):\n",
    "    hyps = []\n",
    "    refs = []\n",
    "    for i in range(min(len(dataset),num_examples)):\n",
    "        example = dataset[i]\n",
    "        selected = []\n",
    "        for j in range(min(k, len(example['src_sent_labels']))):\n",
    "            selected.append(example['src_txt'][j])\n",
    "        out = \" \".join(selected)\n",
    "        hyps.append(out)\n",
    "        ref = example['tgt_txt'].replace('<q>',' ')\n",
    "        refs.append(ref)\n",
    "\n",
    "    return hyps, refs"
   ]
  },
  {
   "cell_type": "code",
   "execution_count": 88,
   "metadata": {},
   "outputs": [
    {
     "data": {
      "text/plain": [
       "{'rouge-1': {'r': 0.5084508230373855,\n",
       "  'p': 0.3589632929014358,\n",
       "  'f': 0.4097730984074396},\n",
       " 'rouge-2': {'r': 0.22330570331577615,\n",
       "  'p': 0.14606575470871974,\n",
       "  'f': 0.17037691800181165},\n",
       " 'rouge-l': {'r': 0.40554740519038524,\n",
       "  'p': 0.2855664228268964,\n",
       "  'f': 0.3262607094733872}}"
      ]
     },
     "execution_count": 88,
     "metadata": {},
     "output_type": "execute_result"
    }
   ],
   "source": [
    "hyps_lead, refs_lead = get_lead_k_selection(data_list, 100000)\n",
    "rouge_metric.get_scores(hyps_lead, refs_lead, avg=True)"
   ]
  }
 ],
 "metadata": {
  "kernelspec": {
   "display_name": "Python 3.9.0 ('pytorch_latest_wsl')",
   "language": "python",
   "name": "python3"
  },
  "language_info": {
   "codemirror_mode": {
    "name": "ipython",
    "version": 3
   },
   "file_extension": ".py",
   "mimetype": "text/x-python",
   "name": "python",
   "nbconvert_exporter": "python",
   "pygments_lexer": "ipython3",
   "version": "3.9.0"
  },
  "orig_nbformat": 4,
  "vscode": {
   "interpreter": {
    "hash": "c6391dba84d87d4dbb04f1a2a4c4f01a9e654f64322ed46c975caa8ac3c5b900"
   }
  }
 },
 "nbformat": 4,
 "nbformat_minor": 2
}
