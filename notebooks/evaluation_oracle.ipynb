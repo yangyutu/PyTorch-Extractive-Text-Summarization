{
 "cells": [
  {
   "cell_type": "code",
   "execution_count": 3,
   "metadata": {},
   "outputs": [
    {
     "name": "stderr",
     "output_type": "stream",
     "text": [
      "/home/yangyutu/miniconda3/envs/pytorch_latest_wsl/lib/python3.9/site-packages/tqdm/auto.py:22: TqdmWarning: IProgress not found. Please update jupyter and ipywidgets. See https://ipywidgets.readthedocs.io/en/stable/user_install.html\n",
      "  from .autonotebook import tqdm as notebook_tqdm\n"
     ]
    }
   ],
   "source": [
    "import torch\n",
    "import glob\n",
    "import os"
   ]
  },
  {
   "cell_type": "code",
   "execution_count": 4,
   "metadata": {},
   "outputs": [],
   "source": [
    "dataname = \"/mnt/d/MLData/Repos/play_ground/PreSumm/bert_data/bert_data_cnndm_final/cnndm.train.0.bert.pt\"\n",
    "data = torch.load(dataname)"
   ]
  },
  {
   "cell_type": "code",
   "execution_count": 5,
   "metadata": {},
   "outputs": [
    {
     "name": "stdout",
     "output_type": "stream",
     "text": [
      "dict_keys(['src', 'tgt', 'src_sent_labels', 'segs', 'clss', 'src_txt', 'tgt_txt'])\n"
     ]
    }
   ],
   "source": [
    "print(data[0].keys())\n"
   ]
  },
  {
   "cell_type": "code",
   "execution_count": 6,
   "metadata": {},
   "outputs": [
    {
     "name": "stdout",
     "output_type": "stream",
     "text": [
      "[101, 2002, 1005, 2015, 2006, 1996, 2648, 2559, 1999, 1010, 1998, 1996, 3193, 1997, 13489, 13619, 6968, 4492, 17994, 3849, 2000, 2562, 2893, 11737, 5017, 1012, 102, 101, 1037, 2739, 3034, 5958, 2013, 2010, 2047, 7728, 1999, 8252, 3607, 2104, 9363, 5596, 2074, 2129, 11737, 2010, 16746, 3711, 2000, 2022, 1010, 2004, 1996, 28368, 5969, 2343, 10865, 2008, 2010, 3677, 1011, 29624, 1998, 4022, 27398, 1011, 29624, 2001, 2025, 2105, 1998, 2018, 2589, 2210, 2000, 2191, 2010, 2994, 2062, 6625, 1012, 102, 101, 1000, 1045, 5136, 2008, 3607, 2442, 1998, 2038, 2000, 2552, 1010, 1000, 13619, 6968, 4492, 17994, 2409, 1037, 6887, 7911, 26807, 1997, 12060, 2040, 2018, 9240, 1999, 1996, 2103, 1997, 20996, 29473, 29624, 2239, 29624, 5280, 1010, 2379, 1996, 8772, 3675, 2007, 5924, 1998, 2055, 6352, 2661, 2148, 1997, 4924, 1012, 102, 101, 2002, 2106, 2025, 20648, 2054, 4506, 2002, 2001, 5327, 2005, 2021, 2081, 3154, 3183, 2002, 2001, 2559, 2000, 1012, 102, 101, 1000, 4209, 1996, 2839, 1997, 2720, 29625, 8748, 22072, 1010, 1045, 2572, 4527, 2339, 1010, 2039, 1005, 3775, 2140, 2085, 1010, 2002, 2038, 2815, 19868, 1010, 4333, 1012, 102, 101, 2008, 2003, 1996, 3160, 1012, 1000, 102, 101, 2295, 2002, 1998, 1996, 2845, 2343, 2018, 5720, 2058, 1996, 3042, 1010, 2027, 2018, 2025, 2777, 1010, 2056, 13619, 6968, 4492, 17994, 1010, 2040, 2596, 2000, 9530, 22119, 2008, 2002, 2106, 2025, 2113, 2073, 22072, 4832, 2006, 2010, 15068, 6238, 1998, 2001, 5327, 2005, 15563, 1011, 29624, 7188, 1996, 2048, 2273, 2131, 2362, 1012, 102, 101, 1000, 2004, 2574, 2004, 2023, 3116, 3138, 2173, 1010, 1045, 2097, 3305, 2010, 7729, 1012, 102, 101, 2133, 2009, 2052, 2025, 2022, 6149, 2085, 2005, 2033, 2000, 3713, 2055, 2054, 3607, 2323, 2079, 2085, 1012, 102, 101, 2133, 3607, 2442, 2224, 2035, 2049, 12020, 1999, 2344, 2000, 9462, 2023, 8488, 1010, 2023, 7404, 2029, 2651, 2003, 2635, 2173, 1999, 5924, 1012, 102, 101, 2009, 2003, 3697, 2005, 2033, 2000, 2360, 2054, 2064, 2272, 2055, 1010, 2021, 1045, 2052, 2066, 2000, 2360, 2153, 2008, 1045, 2572, 4937, 27203, 2135, 2114, 2151, 11099, 2007, 1996, 11074, 11109, 1997, 5924, 2004, 1037, 2110, 1012, 1000, 102, 101, 1996, 3295, 1997, 1996, 2739, 3034, 2993, 2104, 9363, 5596, 2010, 12477, 1012, 102, 101, 1000, 1045, 1005, 2213, 4930, 2011, 1996, 2755, 2008, 2002, 1005, 2015, 1999, 20996, 29473, 29624, 2239, 29624, 5280, 1998, 2025, 1999, 4924, 1998, 2008, 2002, 2038, 2018, 1037, 3042, 2655, 2007, 2343, 22072, 1998, 2025, 2777, 1010, 1000, 2280, 1057, 29625, 2015, 29625, 6059, 2000, 3607, 2745, 11338, 7011, 5313, 2409, 13229, 1012, 102, 101, 1000, 1045, 2245, 2002, 5228, 20006, 2008, 2343, 22072, 2038, 2025, 2042, 2062, 13079, 2000, 6985, 2032, 1012, 1000, 102, 101, 2002, 6563, 13619, 6968, 4492, 17994, 1005, 2015, 7928, 2004, 1000, 5751, 2008, 2002, 2003, 2025, 1999, 2204, 3061, 2007, 2010, 2783, 3677, 1012, 1000, 102, 101, 2005, 2010, 2112, 1010, 22072, 6936, 8973, 1999, 5924, 1999, 1037, 7026, 2655, 2007, 2647, 4177, 1010, 6911, 2075, 1996, 5197, 1997, 9992, 2019, 9686, 25015, 3508, 1997, 4808, 1010, 2429, 2000, 1037, 4861, 2013, 1996, 1047, 28578, 4115, 1010, 2029, 2106, 2025, 21893, 13619, 6968, 4492, 17994, 1012, 102, 101, 1999, 1037, 8223, 9709, 2739, 3034, 2008, 6354, 2005, 2062, 2084, 2019, 3178, 1010, 1996, 28368, 3003, 3764, 1999, 2845, 2612, 1997, 1996, 5969, 2008, 2002, 2038, 2109, 2012, 2880, 4972, 1012, 102, 101, 2295, 2002, 7278, 2008, 2002, 1005, 2015, 2145, 1996, 5795, 1998, 4122, 2498, 2062, 2084, 2000, 2599, 2010, 2406, 2000, 3521, 1010, 9396, 1998, 14165, 1010, 2002, 3253, 2210, 3350, 2008, 2002, 2001, 1999, 1037, 2597, 2000, 2079, 2172, 2055, 2009, 1012, 102, 101, 2002, 12254, 2005, 17213, 1000, 2013, 2035, 2040, 2031, 4265, 1000, 1999, 1996, 8488, 1998, 4808, 2008, 2031, 25223, 3709, 1996, 2406, 1999, 3522, 3134, 1012, 102, 101, 2002, 2056, 2002, 2052, 1000, 6812, 2091, 2000, 2035, 1997, 2068, 1010, 2053, 3043, 2029, 2217, 1997, 1996, 19820, 5555, 6155, 2027, 2020, 2006, 1010, 1000, 2021, 2059, 22416, 1037, 28073, 1997, 19626, 2015, 14126, 2216, 2040, 2020, 2006, 1996, 2217, 1997, 1996, 19820, 5555, 6155, 2008, 4941, 2032, 1010, 7727, 2000, 2068, 2004, 1000, 19088, 1000, 1998, 1000, 14870, 2015, 1012, 1000, 102, 101, 4147, 1037, 2601, 2449, 4848, 1998, 5495, 1010, 2002, 3013, 1037, 9479, 3275, 2004, 2002, 2218, 5743, 2013, 1037, 2795, 1010, 2369, 2029, 2768, 2176, 2630, 29624, 5685, 29624, 6672, 7174, 2860, 5969, 9245, 1012, 102, 101, 2076, 1996, 2739, 3034, 1010, 2002, 2596, 4838, 2004, 2002, 15888, 2094, 2007, 2010, 7279, 1012, 102, 101, 2021, 2002, 12056, 1996, 3778, 1010, 4582, 2091, 2012, 2010, 2398, 1010, 2029, 2020, 2006, 1996, 2795, 1010, 14457, 1037, 7279, 1012, 102, 101, 2043, 2009, 5941, 1010, 2002, 19014, 1010, 2059, 2246, 2039, 1998, 2506, 4092, 1012, 102, 101, 1000, 2673, 2008, 1045, 2064, 2079, 1010, 1045, 2097, 2079, 2000, 1996, 2203, 1997, 2026, 2166, 2000, 2022, 2007, 1996, 2111, 1997, 5924, 1011, 29624, 2025, 2007, 2216, 17934, 1010, 2025, 2007, 2216, 19088, 1010, 2021, 1996, 2111, 1997, 5924, 1010, 1000, 2002, 2056, 1010, 5815, 2008, 2530, 3032, 1010, 2164, 1996, 2142, 2163, 1010, 8501, 2070, 1997, 1996, 7499, 2005, 1996, 16591, 1012, 102, 101, 2002, 2056, 2008, 2002, 2018, 2187, 2010, 2406, 2069, 2044, 2010, 2166, 1998, 1996, 3268, 1997, 2010, 2155, 2020, 5561, 1998, 2008, 2002, 3740, 2000, 2709, 2043, 2009, 2003, 3647, 2000, 2079, 2061, 1012, 102, 101, 1000, 1037, 3671, 2126, 1997, 2166, 2442, 2022, 8916, 2000, 1996, 4480, 1997, 5924, 1010, 2119, 1999, 12100, 1998, 1999, 2035, 4655, 1997, 5924, 1010, 1000, 2002, 2056, 1010, 1998, 2002, 2170, 2005, 1037, 2120, 9782, 1000, 2004, 2574, 2004, 2825, 1012, 1000, 102, 101, 3864, 3740, 2005, 2089, 2423, 1999, 5924, 2052, 2022, 6206, 1010, 2002, 2056, 1010, 5815, 2008, 2002, 2052, 2025, 5589, 1999, 2068, 2065, 2027, 2024, 2218, 1012, 102, 101, 1000, 1045, 5136, 2008, 2035, 1996, 3864, 2442, 2202, 2173, 1999, 10388, 2007, 1996, 2375, 1998, 4552, 1997, 5924, 1010, 1000, 2002, 2056, 1012, 102, 101, 13619, 6968, 4492, 17994, 2056, 2002, 2001, 1000, 14984, 1000, 2008, 2002, 2018, 2025, 2042, 2583, 2000, 5441, 9211, 1999, 2010, 2406, 1012, 102, 101, 1000, 1045, 2215, 2000, 12134, 1999, 2392, 1997, 7955, 1011, 29624, 2000, 1996, 8244, 1010, 2000, 1996, 5969, 2111, 1011, 29624, 2008, 1045, 2106, 2025, 2031, 1996, 3997, 2000, 2644, 2054, 2003, 2085, 2635, 2173, 1999, 1996, 2406, 2013, 2635, 2173, 1010, 1000, 2002, 2056, 1012, 102, 101, 2021, 2002, 2056, 2008, 1000, 2151, 2510, 2895, 1000, 2052, 2022, 21873, 1012, 102, 101, 1000, 5924, 2442, 3961, 2142, 1998, 6151, 12848, 14097, 1010, 1000, 2002, 2056, 1010, 5815, 2008, 1996, 2845, 29624, 2863, 5558, 15780, 20516, 2555, 2442, 3961, 2112, 1997, 1996, 2110, 2021, 2445, 1000, 5041, 12645, 1012, 1000, 102, 101, 13619, 6968, 4492, 17994, 1010, 2040, 2003, 2359, 1999, 5924, 2006, 5571, 3141, 2000, 1996, 16431, 1997, 28337, 2197, 2733, 1999, 12100, 1010, 6380, 2383, 3641, 2610, 2000, 2543, 2006, 2068, 1010, 4288, 7644, 1012, 102, 101, 1000, 2053, 2231, 2064, 9510, 2007, 2668, 14740, 1010, 1998, 2673, 2008, 2038, 2579, 2173, 2003, 1996, 5368, 1997, 2216, 2040, 2106, 2009, 1010, 1000, 2002, 2056, 1012, 102, 101, 1000, 1045, 2196, 2435, 2151, 2344, 2005, 1996, 2610, 2000, 5607, 1010, 1000, 2002, 2056, 1010, 27644, 2008, 2027, 5045, 1999, 2969, 29624, 3207, 18940, 3366, 1999, 1996, 2227, 1997, 1000, 2019, 2886, 1997, 1037, 3742, 2839, 1012, 1000, 102]\n"
     ]
    }
   ],
   "source": [
    "print(data[0]['src'])"
   ]
  },
  {
   "cell_type": "code",
   "execution_count": 7,
   "metadata": {},
   "outputs": [
    {
     "name": "stdout",
     "output_type": "stream",
     "text": [
      "[1, 4654, 29624, 2368, 6767, 2100, 5927, 5751, 2008, 13619, 6968, 4492, 17994, 1000, 2003, 2025, 1999, 2204, 3061, 2007, 2010, 2783, 3677, 1000, 3, 13619, 6968, 4492, 17994, 1998, 2845, 2343, 8748, 22072, 2031, 5720, 2011, 3042, 2021, 2031, 2025, 2777, 3, 1996, 28368, 2343, 16783, 4474, 2008, 22072, 2038, 2025, 2589, 2062, 2]\n"
     ]
    }
   ],
   "source": [
    "print(data[0]['tgt'])"
   ]
  },
  {
   "cell_type": "code",
   "execution_count": 8,
   "metadata": {},
   "outputs": [
    {
     "name": "stdout",
     "output_type": "stream",
     "text": [
      "[\"he 's on the outside looking in , and the view of viktor yanukovych seems to keep getting dimmer .\", 'a news conference friday from his new quarters in southeastern russia underscored just how dim his prospects appear to be , as the ousted ukrainian president complained that his host -- and potential benefactor -- was not around and had done little to make his stay more comfortable .', '\" i consider that russia must and has to act , \" yanukovych told a phalanx of reporters who had assembled in the city of rostov-on-don , near the southwestern border with ukraine and about 700 miles south of moscow .', 'he did not specify what actions he was hoping for but made clear whom he was looking to .', '\" knowing the character of mr. vladimir putin , i am surprised why , up \\'til now , he has remained restrained , silent .', 'that is the question . \"', 'though he and the russian president had talked over the phone , they had not met , said yanukovych , who appeared to concede that he did not know where putin stands on his ouster and was hoping for clarity -- whenever the two men get together .', '\" as soon as this meeting takes place , i will understand his attitude .', '... it would not be correct now for me to speak about what russia should do now .', '... russia must use all its possibilities in order to overcome this chaos , this terror which today is taking place in ukraine .', 'it is difficult for me to say what can come about , but i would like to say again that i am categorically against any interference with the sovereign integrity of ukraine as a state . \"', 'the location of the news conference itself underscored his isolation .', '\" i \\'m struck by the fact that he \\'s in rostov-on-don and not in moscow and that he has had a phone call with president putin and not met , \" former u.s. ambassador to russia michael mcfaul told cnn .', '\" i thought he expressed dismay that president putin has not been more decisive to defend him . \"', 'he cited yanukovych \\'s comments as \" signs that he is not in good standing with his current host . \"', 'for his part , putin discussed developments in ukraine in a telephone call with european leaders , stressing the importance of avoiding an escalation of violence , according to a statement from the kremlin , which did not cite yanukovych .', 'in a rambling news conference that lasted for more than an hour , the ousted leader spoke in russian instead of the ukrainian that he has used at official functions .', \"though he insisted that he 's still the boss and wants nothing more than to lead his country to peace , harmony and prosperity , he offered little evidence that he was in a position to do much about it .\", 'he pleaded for forgiveness \" from all who have suffered \" in the chaos and violence that have roiled the country in recent weeks .', 'he said he would \" bow down to all of them , no matter which side of the barricades they were on , \" but then unleashed a volley of epithets targeting those who were on the side of the barricades that opposed him , referring to them as \" bandits \" and \" fascists . \"', 'wearing a dark business suit and tie , he cut a lonely figure as he held forth from a table , behind which stood four blue-and-yellow ukrainian flags .', 'during the news conference , he appeared contained as he fiddled with his pen .', 'but he betrayed the pressure , staring down at his hands , which were on the table , bending a pen .', 'when it snapped , he grimaced , then looked up and continued speaking .', '\" everything that i can do , i will do to the end of my life to be with the people of ukraine -- not with those nationalists , not with those bandits , but the people of ukraine , \" he said , adding that western countries , including the united states , bore some of the blame for the unrest .', 'he said that he had left his country only after his life and the lives of his family were threatened and that he planned to return when it is safe to do so .', '\" a normal way of life must be assured to the citizens of ukraine , both in kiev and in all regions of ukraine , \" he said , and he called for a national referendum \" as soon as possible . \"', 'elections planned for may 25 in ukraine would be illegal , he said , adding that he would not participate in them if they are held .', '\" i consider that all the elections must take place in accordance with the law and constitution of ukraine , \" he said .', 'yanukovych said he was \" ashamed \" that he had not been able to maintain stability in his country .', '\" i want to apologize in front of everybody -- to the veterans , to the ukrainian people -- that i did not have the strength to stop what is now taking place in the country from taking place , \" he said .', 'but he said that \" any military action \" would be unacceptable .', '\" ukraine must remain united and undivided , \" he said , adding that the russian-majority crimean region must remain part of the state but given \" broad autonomy . \"', 'yanukovych , who is wanted in ukraine on charges related to the killings of demonstrators last week in kiev , denied having ordered police to fire on them , killing scores .', '\" no government can succeed with bloodshed , and everything that has taken place is the responsibility of those who did it , \" he said .', '\" i never gave any order for the police to shoot , \" he said , asserting that they fired in self-defense in the face of \" an attack of a mass character . \"']\n"
     ]
    }
   ],
   "source": [
    "print(data[0]['src_txt'])"
   ]
  },
  {
   "cell_type": "code",
   "execution_count": 9,
   "metadata": {},
   "outputs": [
    {
     "name": "stdout",
     "output_type": "stream",
     "text": [
      "[0, 0, 0, 0, 0, 1, 0, 0, 0, 0, 0, 0, 0, 1, 1, 0, 0, 0, 0, 0, 0, 0, 0, 0, 0, 0, 0, 0, 0, 0, 0, 0, 0, 0, 0, 0]\n"
     ]
    }
   ],
   "source": [
    "print(data[0]['src_sent_labels'])"
   ]
  },
  {
   "cell_type": "code",
   "execution_count": 10,
   "metadata": {},
   "outputs": [],
   "source": [
    "assert len(data[1]['src_sent_labels']) == len(data[1]['src_txt'])"
   ]
  },
  {
   "cell_type": "code",
   "execution_count": 11,
   "metadata": {},
   "outputs": [
    {
     "name": "stdout",
     "output_type": "stream",
     "text": [
      "[0, 0, 0, 0, 0, 0, 0, 0, 0, 0, 0, 0, 0, 0, 0, 0, 0, 0, 0, 0, 0, 0, 0, 0, 0, 0, 0, 1, 1, 1, 1, 1, 1, 1, 1, 1, 1, 1, 1, 1, 1, 1, 1, 1, 1, 1, 1, 1, 1, 1, 1, 1, 1, 1, 1, 1, 1, 1, 1, 1, 1, 1, 1, 1, 1, 1, 1, 1, 1, 1, 1, 1, 1, 1, 1, 1, 1, 1, 1, 1, 1, 1, 0, 0, 0, 0, 0, 0, 0, 0, 0, 0, 0, 0, 0, 0, 0, 0, 0, 0, 0, 0, 0, 0, 0, 0, 0, 0, 0, 0, 0, 0, 0, 0, 0, 0, 0, 0, 0, 0, 0, 0, 0, 0, 0, 0, 0, 0, 0, 0, 0, 0, 0, 0, 0, 1, 1, 1, 1, 1, 1, 1, 1, 1, 1, 1, 1, 1, 1, 1, 1, 1, 1, 1, 1, 1, 0, 0, 0, 0, 0, 0, 0, 0, 0, 0, 0, 0, 0, 0, 0, 0, 0, 0, 0, 0, 0, 0, 0, 0, 0, 0, 0, 0, 0, 0, 1, 1, 1, 1, 1, 1, 1, 1, 0, 0, 0, 0, 0, 0, 0, 0, 0, 0, 0, 0, 0, 0, 0, 0, 0, 0, 0, 0, 0, 0, 0, 0, 0, 0, 0, 0, 0, 0, 0, 0, 0, 0, 0, 0, 0, 0, 0, 0, 0, 0, 0, 0, 0, 0, 0, 0, 0, 0, 0, 0, 0, 0, 0, 0, 1, 1, 1, 1, 1, 1, 1, 1, 1, 1, 1, 1, 1, 1, 1, 1, 1, 0, 0, 0, 0, 0, 0, 0, 0, 0, 0, 0, 0, 0, 0, 0, 0, 0, 0, 0, 0, 1, 1, 1, 1, 1, 1, 1, 1, 1, 1, 1, 1, 1, 1, 1, 1, 1, 1, 1, 1, 1, 1, 1, 1, 1, 1, 0, 0, 0, 0, 0, 0, 0, 0, 0, 0, 0, 0, 0, 0, 0, 0, 0, 0, 0, 0, 0, 0, 0, 0, 0, 0, 0, 0, 0, 0, 0, 0, 0, 0, 0, 0, 0, 0, 0, 0, 0, 1, 1, 1, 1, 1, 1, 1, 1, 1, 1, 1, 1, 1, 1, 1, 0, 0, 0, 0, 0, 0, 0, 0, 0, 0, 0, 0, 0, 0, 0, 0, 0, 0, 0, 0, 0, 0, 0, 0, 0, 0, 0, 0, 0, 0, 0, 0, 0, 0, 0, 0, 0, 0, 0, 0, 0, 0, 0, 0, 0, 0, 0, 0, 0, 0, 0, 0, 0, 0, 0, 0, 1, 1, 1, 1, 1, 1, 1, 1, 1, 1, 1, 1, 1, 1, 1, 1, 1, 1, 1, 1, 1, 0, 0, 0, 0, 0, 0, 0, 0, 0, 0, 0, 0, 0, 0, 0, 0, 0, 0, 0, 0, 0, 0, 0, 0, 0, 0, 0, 1, 1, 1, 1, 1, 1, 1, 1, 1, 1, 1, 1, 1, 1, 1, 1, 1, 1, 1, 1, 1, 1, 1, 1, 1, 1, 1, 1, 1, 1, 1, 1, 1, 1, 1, 1, 1, 1, 1, 1, 1, 1, 1, 1, 1, 1, 1, 1, 1, 1, 1, 0, 0, 0, 0, 0, 0, 0, 0, 0, 0, 0, 0, 0, 0, 0, 0, 0, 0, 0, 0, 0, 0, 0, 0, 0, 0, 0, 0, 0, 0, 0, 0, 0, 0, 1, 1, 1, 1, 1, 1, 1, 1, 1, 1, 1, 1, 1, 1, 1, 1, 1, 1, 1, 1, 1, 1, 1, 1, 1, 1, 1, 1, 1, 1, 1, 1, 1, 1, 1, 1, 1, 1, 1, 1, 1, 1, 1, 1, 0, 0, 0, 0, 0, 0, 0, 0, 0, 0, 0, 0, 0, 0, 0, 0, 0, 0, 0, 0, 0, 0, 0, 0, 0, 0, 0, 0, 1, 1, 1, 1, 1, 1, 1, 1, 1, 1, 1, 1, 1, 1, 1, 1, 1, 1, 1, 1, 1, 1, 1, 1, 1, 1, 1, 1, 1, 1, 1, 1, 1, 1, 1, 1, 1, 1, 1, 1, 1, 1, 1, 1, 1, 1, 1, 1, 1, 1, 1, 1, 1, 1, 1, 1, 1, 1, 1, 1, 1, 1, 1, 1, 1, 0, 0, 0, 0, 0, 0, 0, 0, 0, 0, 0, 0, 0, 0, 0, 0, 0, 0, 0, 0, 0, 0, 0, 0, 0, 0, 0, 0, 0, 0, 0, 0, 0, 0, 0, 0, 0, 1, 1, 1, 1, 1, 1, 1, 1, 1, 1, 1, 1, 1, 1, 1, 1, 1, 1, 0, 0, 0, 0, 0, 0, 0, 0, 0, 0, 0, 0, 0, 0, 0, 0, 0, 0, 0, 0, 0, 0, 0, 0, 1, 1, 1, 1, 1, 1, 1, 1, 1, 1, 1, 1, 1, 1, 1, 1, 0, 0, 0, 0, 0, 0, 0, 0, 0, 0, 0, 0, 0, 0, 0, 0, 0, 0, 0, 0, 0, 0, 0, 0, 0, 0, 0, 0, 0, 0, 0, 0, 0, 0, 0, 0, 0, 0, 0, 0, 0, 0, 0, 0, 0, 0, 0, 0, 0, 0, 0, 0, 0, 0, 0, 0, 0, 0, 0, 0, 0, 0, 0, 0, 0, 0, 1, 1, 1, 1, 1, 1, 1, 1, 1, 1, 1, 1, 1, 1, 1, 1, 1, 1, 1, 1, 1, 1, 1, 1, 1, 1, 1, 1, 1, 1, 1, 1, 1, 1, 1, 1, 0, 0, 0, 0, 0, 0, 0, 0, 0, 0, 0, 0, 0, 0, 0, 0, 0, 0, 0, 0, 0, 0, 0, 0, 0, 0, 0, 0, 0, 0, 0, 0, 0, 0, 0, 0, 0, 0, 0, 0, 0, 0, 0, 0, 0, 1, 1, 1, 1, 1, 1, 1, 1, 1, 1, 1, 1, 1, 1, 1, 1, 1, 1, 1, 1, 1, 1, 1, 1, 1, 1, 1, 1, 1, 0, 0, 0, 0, 0, 0, 0, 0, 0, 0, 0, 0, 0, 0, 0, 0, 0, 0, 0, 0, 0, 0, 0, 0, 0, 0, 1, 1, 1, 1, 1, 1, 1, 1, 1, 1, 1, 1, 1, 1, 1, 1, 1, 1, 1, 1, 1, 1, 1, 1, 1, 0, 0, 0, 0, 0, 0, 0, 0, 0, 0, 0, 0, 0, 0, 0, 0, 0, 0, 0, 0, 0, 0, 0, 0, 0, 0, 0, 0, 0, 0, 0, 0, 0, 0, 0, 0, 0, 0, 0, 0, 0, 0, 0, 0, 0, 0, 0, 0, 1, 1, 1, 1, 1, 1, 1, 1, 1, 1, 1, 1, 1, 1, 1, 0, 0, 0, 0, 0, 0, 0, 0, 0, 0, 0, 0, 0, 0, 0, 0, 0, 0, 0, 0, 0, 0, 0, 0, 0, 0, 0, 0, 0, 0, 0, 0, 0, 0, 0, 0, 0, 0, 0, 1, 1, 1, 1, 1, 1, 1, 1, 1, 1, 1, 1, 1, 1, 1, 1, 1, 1, 1, 1, 1, 1, 1, 1, 1, 1, 1, 1, 1, 1, 1, 1, 1, 1, 1, 1, 1, 0, 0, 0, 0, 0, 0, 0, 0, 0, 0, 0, 0, 0, 0, 0, 0, 0, 0, 0, 0, 0, 0, 0, 0, 0, 0, 0, 0, 0, 0, 1, 1, 1, 1, 1, 1, 1, 1, 1, 1, 1, 1, 1, 1, 1, 1, 1, 1, 1, 1, 1, 1, 1, 1, 1, 1, 1, 1, 1, 1, 1, 1, 1, 1, 1, 1, 1, 1, 1, 1, 1]\n"
     ]
    }
   ],
   "source": [
    "print(data[0]['segs'])"
   ]
  },
  {
   "cell_type": "code",
   "execution_count": 12,
   "metadata": {},
   "outputs": [
    {
     "name": "stdout",
     "output_type": "stream",
     "text": [
      "[0, 27, 82, 135, 156, 186, 194, 250, 267, 287, 313, 354, 369, 425, 446, 473, 524, 558, 602, 630, 695, 732, 750, 774, 790, 856, 892, 937, 966, 992, 1017, 1065, 1080, 1119, 1156, 1186]\n"
     ]
    }
   ],
   "source": [
    "print(data[0]['clss'])"
   ]
  },
  {
   "cell_type": "code",
   "execution_count": 13,
   "metadata": {},
   "outputs": [
    {
     "name": "stdout",
     "output_type": "stream",
     "text": [
      "[\"he 's on the outside looking in , and the view of viktor yanukovych seems to keep getting dimmer .\", 'a news conference friday from his new quarters in southeastern russia underscored just how dim his prospects appear to be , as the ousted ukrainian president complained that his host -- and potential benefactor -- was not around and had done little to make his stay more comfortable .', '\" i consider that russia must and has to act , \" yanukovych told a phalanx of reporters who had assembled in the city of rostov-on-don , near the southwestern border with ukraine and about 700 miles south of moscow .', 'he did not specify what actions he was hoping for but made clear whom he was looking to .', '\" knowing the character of mr. vladimir putin , i am surprised why , up \\'til now , he has remained restrained , silent .', 'that is the question . \"', 'though he and the russian president had talked over the phone , they had not met , said yanukovych , who appeared to concede that he did not know where putin stands on his ouster and was hoping for clarity -- whenever the two men get together .', '\" as soon as this meeting takes place , i will understand his attitude .', '... it would not be correct now for me to speak about what russia should do now .', '... russia must use all its possibilities in order to overcome this chaos , this terror which today is taking place in ukraine .', 'it is difficult for me to say what can come about , but i would like to say again that i am categorically against any interference with the sovereign integrity of ukraine as a state . \"', 'the location of the news conference itself underscored his isolation .', '\" i \\'m struck by the fact that he \\'s in rostov-on-don and not in moscow and that he has had a phone call with president putin and not met , \" former u.s. ambassador to russia michael mcfaul told cnn .', '\" i thought he expressed dismay that president putin has not been more decisive to defend him . \"', 'he cited yanukovych \\'s comments as \" signs that he is not in good standing with his current host . \"', 'for his part , putin discussed developments in ukraine in a telephone call with european leaders , stressing the importance of avoiding an escalation of violence , according to a statement from the kremlin , which did not cite yanukovych .', 'in a rambling news conference that lasted for more than an hour , the ousted leader spoke in russian instead of the ukrainian that he has used at official functions .', \"though he insisted that he 's still the boss and wants nothing more than to lead his country to peace , harmony and prosperity , he offered little evidence that he was in a position to do much about it .\", 'he pleaded for forgiveness \" from all who have suffered \" in the chaos and violence that have roiled the country in recent weeks .', 'he said he would \" bow down to all of them , no matter which side of the barricades they were on , \" but then unleashed a volley of epithets targeting those who were on the side of the barricades that opposed him , referring to them as \" bandits \" and \" fascists . \"', 'wearing a dark business suit and tie , he cut a lonely figure as he held forth from a table , behind which stood four blue-and-yellow ukrainian flags .', 'during the news conference , he appeared contained as he fiddled with his pen .', 'but he betrayed the pressure , staring down at his hands , which were on the table , bending a pen .', 'when it snapped , he grimaced , then looked up and continued speaking .', '\" everything that i can do , i will do to the end of my life to be with the people of ukraine -- not with those nationalists , not with those bandits , but the people of ukraine , \" he said , adding that western countries , including the united states , bore some of the blame for the unrest .', 'he said that he had left his country only after his life and the lives of his family were threatened and that he planned to return when it is safe to do so .', '\" a normal way of life must be assured to the citizens of ukraine , both in kiev and in all regions of ukraine , \" he said , and he called for a national referendum \" as soon as possible . \"', 'elections planned for may 25 in ukraine would be illegal , he said , adding that he would not participate in them if they are held .', '\" i consider that all the elections must take place in accordance with the law and constitution of ukraine , \" he said .', 'yanukovych said he was \" ashamed \" that he had not been able to maintain stability in his country .', '\" i want to apologize in front of everybody -- to the veterans , to the ukrainian people -- that i did not have the strength to stop what is now taking place in the country from taking place , \" he said .', 'but he said that \" any military action \" would be unacceptable .', '\" ukraine must remain united and undivided , \" he said , adding that the russian-majority crimean region must remain part of the state but given \" broad autonomy . \"', 'yanukovych , who is wanted in ukraine on charges related to the killings of demonstrators last week in kiev , denied having ordered police to fire on them , killing scores .', '\" no government can succeed with bloodshed , and everything that has taken place is the responsibility of those who did it , \" he said .', '\" i never gave any order for the police to shoot , \" he said , asserting that they fired in self-defense in the face of \" an attack of a mass character . \"']\n"
     ]
    }
   ],
   "source": [
    "print(data[0]['src_txt'])"
   ]
  },
  {
   "cell_type": "code",
   "execution_count": 14,
   "metadata": {},
   "outputs": [
    {
     "name": "stdout",
     "output_type": "stream",
     "text": [
      "joran van der sloot marries a woman who he met as she visited his lima prison<q>the couple are expecting a child together in september , according to his lawyer<q>van der sloot pleaded guilty in 2012 to the murder of a 21-year-old peruvian woman<q>he was arrested twice , but never charged , in natalee holloway 's disappearance\n"
     ]
    }
   ],
   "source": [
    "print(data[7]['tgt_txt'])"
   ]
  },
  {
   "attachments": {},
   "cell_type": "markdown",
   "metadata": {},
   "source": [
    "### validate oracle baseline"
   ]
  },
  {
   "cell_type": "code",
   "execution_count": 15,
   "metadata": {},
   "outputs": [],
   "source": [
    "def get_oracle_selection(dataset, num_examples):\n",
    "    hyps = []\n",
    "    refs = []\n",
    "    for i in range(min(len(dataset),num_examples)):\n",
    "        example = dataset[i]\n",
    "        selected = []\n",
    "        for idx, j in enumerate(example['src_sent_labels']):\n",
    "            if j == 1:\n",
    "                selected.append(example['src_txt'][idx])\n",
    "        out = \" \".join(selected)\n",
    "        hyps.append(out)\n",
    "        ref = example['tgt_txt'].replace('<q>',' ')\n",
    "        refs.append(ref)\n",
    "\n",
    "    return hyps, refs\n",
    "        "
   ]
  },
  {
   "cell_type": "code",
   "execution_count": 16,
   "metadata": {},
   "outputs": [],
   "source": [
    "hyps, refs = get_oracle_selection(data, 1000)\n"
   ]
  },
  {
   "cell_type": "code",
   "execution_count": 17,
   "metadata": {},
   "outputs": [
    {
     "data": {
      "text/plain": [
       "'that is the question . \" \" i thought he expressed dismay that president putin has not been more decisive to defend him . \" he cited yanukovych \\'s comments as \" signs that he is not in good standing with his current host . \"'"
      ]
     },
     "execution_count": 17,
     "metadata": {},
     "output_type": "execute_result"
    }
   ],
   "source": [
    "hyps[0]\n"
   ]
  },
  {
   "cell_type": "code",
   "execution_count": 18,
   "metadata": {},
   "outputs": [
    {
     "data": {
      "text/plain": [
       "'ex-envoy sees signs that yanukovych \" is not in good standing with his current host \" yanukovych and russian president vladimir putin have talked by phone but have not met the ousted president expresses surprise that putin has not done more'"
      ]
     },
     "execution_count": 18,
     "metadata": {},
     "output_type": "execute_result"
    }
   ],
   "source": [
    "refs[0]"
   ]
  },
  {
   "cell_type": "code",
   "execution_count": 19,
   "metadata": {},
   "outputs": [
    {
     "data": {
      "text/plain": [
       "{'rouge-1': {'r': 0.614981324559635,\n",
       "  'p': 0.5449189422140175,\n",
       "  'f': 0.5634476092611848},\n",
       " 'rouge-2': {'r': 0.3563061603599092,\n",
       "  'p': 0.3125174152069931,\n",
       "  'f': 0.3212751725453651},\n",
       " 'rouge-l': {'r': 0.5169639725341378,\n",
       "  'p': 0.4590199862690571,\n",
       "  'f': 0.4740086191670885}}"
      ]
     },
     "execution_count": 19,
     "metadata": {},
     "output_type": "execute_result"
    }
   ],
   "source": [
    "from rouge import Rouge\n",
    "rouge_metric = Rouge()\n",
    "\n",
    "rouge_metric.get_scores(hyps, refs, avg=True)"
   ]
  },
  {
   "cell_type": "code",
   "execution_count": 20,
   "metadata": {},
   "outputs": [],
   "source": [
    "dir_name = \"/mnt/d/MLData/Repos/play_ground/PreSumm/bert_data/bert_data_cnndm_final/\"\n",
    "seg = 'test'\n",
    "filenames = glob.glob(dir_name + \"/[a-z]*\" + seg + '.[0-9]*.pt')\n",
    "data_all = []\n",
    "for filename in filenames:\n",
    "    data_all.extend(torch.load(filename))\n",
    "\n"
   ]
  },
  {
   "cell_type": "code",
   "execution_count": 21,
   "metadata": {},
   "outputs": [],
   "source": [
    "hyps, refs = get_oracle_selection(data_all, 100000)"
   ]
  },
  {
   "cell_type": "code",
   "execution_count": 22,
   "metadata": {},
   "outputs": [
    {
     "data": {
      "text/plain": [
       "{'rouge-1': {'r': 0.6216013539591533,\n",
       "  'p': 0.5640760494801845,\n",
       "  'f': 0.5796721339322572},\n",
       " 'rouge-2': {'r': 0.3591540435332021,\n",
       "  'p': 0.32231293073872364,\n",
       "  'f': 0.3298827560068681},\n",
       " 'rouge-l': {'r': 0.5136774763729628,\n",
       "  'p': 0.46740272283280765,\n",
       "  'f': 0.4795558649575387}}"
      ]
     },
     "execution_count": 22,
     "metadata": {},
     "output_type": "execute_result"
    }
   ],
   "source": [
    "rouge_metric.get_scores(hyps, refs, avg=True)"
   ]
  },
  {
   "attachments": {},
   "cell_type": "markdown",
   "metadata": {},
   "source": [
    "### validate lead 3 baseline"
   ]
  },
  {
   "cell_type": "code",
   "execution_count": 23,
   "metadata": {},
   "outputs": [],
   "source": [
    "def get_lead_selection(dataset, num_examples):\n",
    "    hyps = []\n",
    "    refs = []\n",
    "    for i in range(min(len(dataset),num_examples)):\n",
    "        example = dataset[i]\n",
    "        selected = []\n",
    "        for j in range(min(3, len(example['src_sent_labels']))):\n",
    "            selected.append(example['src_txt'][j])\n",
    "        out = \" \".join(selected)\n",
    "        hyps.append(out)\n",
    "        ref = example['tgt_txt'].replace('<q>',' ')\n",
    "        refs.append(ref)\n",
    "\n",
    "    return hyps, refs"
   ]
  },
  {
   "cell_type": "code",
   "execution_count": 24,
   "metadata": {},
   "outputs": [
    {
     "data": {
      "text/plain": [
       "{'rouge-1': {'r': 0.5084508230373855,\n",
       "  'p': 0.3589632929014358,\n",
       "  'f': 0.4097730984074396},\n",
       " 'rouge-2': {'r': 0.22330570331577615,\n",
       "  'p': 0.14606575470871974,\n",
       "  'f': 0.17037691800181165},\n",
       " 'rouge-l': {'r': 0.40554740519038524,\n",
       "  'p': 0.2855664228268964,\n",
       "  'f': 0.3262607094733872}}"
      ]
     },
     "execution_count": 24,
     "metadata": {},
     "output_type": "execute_result"
    }
   ],
   "source": [
    "hyps, refs = get_lead_selection\n",
    "(data_all, 100000)\n",
    "rouge_metric.get_scores(hyps, refs, avg=True)"
   ]
  }
 ],
 "metadata": {
  "kernelspec": {
   "display_name": "Python 3.9.0 ('pytorch_latest_wsl')",
   "language": "python",
   "name": "python3"
  },
  "language_info": {
   "codemirror_mode": {
    "name": "ipython",
    "version": 3
   },
   "file_extension": ".py",
   "mimetype": "text/x-python",
   "name": "python",
   "nbconvert_exporter": "python",
   "pygments_lexer": "ipython3",
   "version": "3.9.0"
  },
  "orig_nbformat": 4,
  "vscode": {
   "interpreter": {
    "hash": "c6391dba84d87d4dbb04f1a2a4c4f01a9e654f64322ed46c975caa8ac3c5b900"
   }
  }
 },
 "nbformat": 4,
 "nbformat_minor": 2
}
